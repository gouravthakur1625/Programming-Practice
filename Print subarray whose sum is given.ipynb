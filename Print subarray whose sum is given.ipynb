{
 "cells": [
  {
   "cell_type": "code",
   "execution_count": 27,
   "id": "377ec834",
   "metadata": {},
   "outputs": [
    {
     "name": "stdout",
     "output_type": "stream",
     "text": [
      "[]\n"
     ]
    }
   ],
   "source": [
    "def subarray(arr,k):\n",
    "    s =[]\n",
    "    n = len(arr)\n",
    "    for i in range(n):\n",
    "        s.append(arr[i])\n",
    "        while(sum(s)>k):\n",
    "            s.pop(0)\n",
    "        if(sum(s)==k):\n",
    "            return s\n",
    "    return []\n",
    "arr = [1,2,3,4,5,6,7]\n",
    "print(subarray(arr,))      "
   ]
  },
  {
   "cell_type": "code",
   "execution_count": 22,
   "id": "af45d95a",
   "metadata": {},
   "outputs": [
    {
     "name": "stdout",
     "output_type": "stream",
     "text": [
      "[]\n"
     ]
    }
   ],
   "source": []
  }
 ],
 "metadata": {
  "kernelspec": {
   "display_name": "Python 3 (ipykernel)",
   "language": "python",
   "name": "python3"
  },
  "language_info": {
   "codemirror_mode": {
    "name": "ipython",
    "version": 3
   },
   "file_extension": ".py",
   "mimetype": "text/x-python",
   "name": "python",
   "nbconvert_exporter": "python",
   "pygments_lexer": "ipython3",
   "version": "3.9.7"
  }
 },
 "nbformat": 4,
 "nbformat_minor": 5
}
