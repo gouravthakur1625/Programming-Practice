{
 "cells": [
  {
   "cell_type": "code",
   "execution_count": 48,
   "id": "cc0c0a4b",
   "metadata": {},
   "outputs": [
    {
     "name": "stdout",
     "output_type": "stream",
     "text": [
      "\n",
      "\n",
      "1\n",
      "\n",
      "12\n",
      "\n",
      "123\n",
      "\n",
      "1234\n",
      "\n",
      "12345\n",
      "\n",
      "\n",
      "\n",
      "2\n",
      "\n",
      "23\n",
      "\n",
      "234\n",
      "\n",
      "2345\n",
      "\n",
      "\n",
      "\n",
      "3\n",
      "\n",
      "34\n",
      "\n",
      "345\n",
      "\n",
      "\n",
      "\n",
      "4\n",
      "\n",
      "45\n",
      "\n",
      "\n",
      "\n",
      "5\n",
      "\n",
      "\n",
      "\n"
     ]
    }
   ],
   "source": [
    "def printarr(arr,i,j):\n",
    "    for i in range(i,j):\n",
    "        if(sum(arr))\n",
    "        print(arr[i],end='')\n",
    "\n",
    "    print('\\n')\n",
    "\n",
    "\n",
    "\n",
    "def printallsubarray(arr):\n",
    "    n = len(arr)\n",
    "    for i in range(n+1):\n",
    "        for j in range(i,n+1):\n",
    "            printarr(arr,i,j)\n",
    "            \n",
    "        \n",
    "arr = [1,2,3,4,5]        \n",
    "printallsubarray(arr)"
   ]
  }
 ],
 "metadata": {
  "kernelspec": {
   "display_name": "Python 3 (ipykernel)",
   "language": "python",
   "name": "python3"
  },
  "language_info": {
   "codemirror_mode": {
    "name": "ipython",
    "version": 3
   },
   "file_extension": ".py",
   "mimetype": "text/x-python",
   "name": "python",
   "nbconvert_exporter": "python",
   "pygments_lexer": "ipython3",
   "version": "3.9.7"
  }
 },
 "nbformat": 4,
 "nbformat_minor": 5
}
