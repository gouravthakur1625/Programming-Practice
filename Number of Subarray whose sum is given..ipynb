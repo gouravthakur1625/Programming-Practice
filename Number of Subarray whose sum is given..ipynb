{
 "cells": [
  {
   "cell_type": "code",
   "execution_count": 8,
   "id": "4fff397b",
   "metadata": {},
   "outputs": [],
   "source": [
    "def solution(lst,k):\n",
    "    sumdict = {0:1}\n",
    "    count=0\n",
    "    n = len(lst)\n",
    "    s = 0\n",
    "    for num in lst:\n",
    "        s += num\n",
    "        if s-k in sumdict:\n",
    "            count += sumdict[s-k]\n",
    "        if s in sumdict:\n",
    "            sumdict[s] += 1\n",
    "        else:\n",
    "            sumdict[s] = 1\n",
    "    return count"
   ]
  },
  {
   "cell_type": "code",
   "execution_count": 9,
   "id": "4f71ff77",
   "metadata": {},
   "outputs": [
    {
     "data": {
      "text/plain": [
       "4"
      ]
     },
     "execution_count": 9,
     "metadata": {},
     "output_type": "execute_result"
    }
   ],
   "source": [
    "lst = [3,4,7,2,-3,1,4,2]\n",
    "k = 7\n",
    "solution(lst,k)"
   ]
  }
 ],
 "metadata": {
  "kernelspec": {
   "display_name": "Python 3 (ipykernel)",
   "language": "python",
   "name": "python3"
  },
  "language_info": {
   "codemirror_mode": {
    "name": "ipython",
    "version": 3
   },
   "file_extension": ".py",
   "mimetype": "text/x-python",
   "name": "python",
   "nbconvert_exporter": "python",
   "pygments_lexer": "ipython3",
   "version": "3.9.7"
  }
 },
 "nbformat": 4,
 "nbformat_minor": 5
}
