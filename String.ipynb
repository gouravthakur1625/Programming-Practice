{
 "cells": [
  {
   "cell_type": "code",
   "execution_count": 14,
   "id": "023193ba",
   "metadata": {},
   "outputs": [
    {
     "ename": "SyntaxError",
     "evalue": "invalid syntax (Temp/ipykernel_12180/1807082965.py, line 16)",
     "output_type": "error",
     "traceback": [
      "\u001b[1;36m  File \u001b[1;32m\"C:\\Users\\goura\\AppData\\Local\\Temp/ipykernel_12180/1807082965.py\"\u001b[1;36m, line \u001b[1;32m16\u001b[0m\n\u001b[1;33m    do(num2=str(num2)+str(i))while(i!=4):\u001b[0m\n\u001b[1;37m                             ^\u001b[0m\n\u001b[1;31mSyntaxError\u001b[0m\u001b[1;31m:\u001b[0m invalid syntax\n"
     ]
    }
   ],
   "source": [
    "lst=3,1,6,4,2,3,7,2\n",
    "lst1=lst[::-1]\n",
    "num1=0\n",
    "num2=0\n",
    "for i in lst:\n",
    "    if(i!=4):\n",
    "        num1=num1+i\n",
    "    else:\n",
    "        break\n",
    "for i in lst1:\n",
    "    if(i!=7):\n",
    "        num1=num1+i\n",
    "    else:\n",
    "        break\n",
    "print(num2)"
   ]
  },
  {
   "cell_type": "code",
   "execution_count": 7,
   "id": "680a831a",
   "metadata": {},
   "outputs": [
    {
     "data": {
      "text/plain": [
       "(2, 7, 3, 2, 4, 6, 1, 3)"
      ]
     },
     "execution_count": 7,
     "metadata": {},
     "output_type": "execute_result"
    }
   ],
   "source": [
    "lst[::-1]"
   ]
  },
  {
   "cell_type": "code",
   "execution_count": 31,
   "id": "628ddeea",
   "metadata": {},
   "outputs": [
    {
     "name": "stdout",
     "output_type": "stream",
     "text": [
      "4249\n"
     ]
    }
   ],
   "source": [
    "lst=[3,1,6,4,2,3,7,2]\n",
    "index_4=lst.index(4)\n",
    "index_7=lst.index(7)\n",
    "length = len(lst)\n",
    "num1=0\n",
    "num2=\" \"\n",
    "for i in range(0,length):\n",
    "    if(i<index_4):\n",
    "        num1=num1+lst[i]\n",
    "    elif( i>index_7 ):\n",
    "        num1=num1+lst[i]\n",
    "for i in range(index_4 , index_7+1):\n",
    "    num2=num2+str(lst[i])\n",
    "print(int(num2)+num1)"
   ]
  },
  {
   "cell_type": "code",
   "execution_count": null,
   "id": "1db697ea",
   "metadata": {},
   "outputs": [],
   "source": [
    "lst=[3,1,6,4,2,3,7,2]\n",
    "index_4=lst.index(4)\n",
    "index_7=lst.index(7)\n",
    "num1=0\n",
    "num2=0\n",
    "for i in range(len(lst)):\n",
    "    if(lst[i<index_4):\n",
    "        num1=num1+i\n",
    "    elif(lst[i]>index_7):\n",
    "        num1=num1+i\n",
    "print(num1)"
   ]
  },
  {
   "cell_type": "code",
   "execution_count": 3,
   "id": "6624ce9f",
   "metadata": {},
   "outputs": [
    {
     "name": "stdout",
     "output_type": "stream",
     "text": [
      "3\n"
     ]
    }
   ],
   "source": [
    "st=\"Cadbury Dairy Milk\" \n",
    "x=st.split('a') \n",
    "print(len(x))"
   ]
  },
  {
   "cell_type": "code",
   "execution_count": null,
   "id": "644e4956",
   "metadata": {},
   "outputs": [],
   "source": []
  }
 ],
 "metadata": {
  "kernelspec": {
   "display_name": "Python 3 (ipykernel)",
   "language": "python",
   "name": "python3"
  },
  "language_info": {
   "codemirror_mode": {
    "name": "ipython",
    "version": 3
   },
   "file_extension": ".py",
   "mimetype": "text/x-python",
   "name": "python",
   "nbconvert_exporter": "python",
   "pygments_lexer": "ipython3",
   "version": "3.9.7"
  }
 },
 "nbformat": 4,
 "nbformat_minor": 5
}
